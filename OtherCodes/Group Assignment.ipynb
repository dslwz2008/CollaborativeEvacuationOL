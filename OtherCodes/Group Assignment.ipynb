{
 "cells": [
  {
   "cell_type": "code",
   "execution_count": 1,
   "metadata": {
    "collapsed": true
   },
   "outputs": [],
   "source": [
    "from ztp import ztpoisson\n",
    "import sqlite3\n",
    "import math\n",
    "from collections import Counter\n",
    "import numpy as np"
   ]
  },
  {
   "cell_type": "code",
   "execution_count": 2,
   "metadata": {
    "collapsed": false
   },
   "outputs": [
    {
     "name": "stdout",
     "output_type": "stream",
     "text": [
      "100\n"
     ]
    }
   ],
   "source": [
    "mu = 2.05\n",
    "# dbpath = '../WebServer/participants.db'\n",
    "# # 获取总的参与人数\n",
    "# sqlGetCount =  'select count(*) from participants'\n",
    "# sqlUpdateGroupID = ''\n",
    "# con = sqlite3.connect(dbpath)\n",
    "\n",
    "# cur = con.cursor()\n",
    "# cur.execute(sqlGetCount)\n",
    "# record = cur.fetchone()\n",
    "# con.close()\n",
    "\n",
    "totalNumber = 100\n",
    "print(totalNumber)"
   ]
  },
  {
   "cell_type": "code",
   "execution_count": 3,
   "metadata": {
    "collapsed": false
   },
   "outputs": [
    {
     "name": "stdout",
     "output_type": "stream",
     "text": [
      "[41, 34, 13, 7, 5]\n"
     ]
    }
   ],
   "source": [
    "# 各种size的群组所占百分比，服从ZTP分布\n",
    "groupPercents = [ztpoisson.rvs(mu) for _ in range(100)]\n",
    "# print(groupPercents)\n",
    "c = Counter(groupPercents)\n",
    "results = [tup[1] for tup in c.most_common()][:5]\n",
    "print(results) # 各种size的群组所占百分比，这里没考虑人数"
   ]
  },
  {
   "cell_type": "code",
   "execution_count": 7,
   "metadata": {
    "collapsed": false
   },
   "outputs": [
    {
     "name": "stdout",
     "output_type": "stream",
     "text": [
      "[ 0.23404255  0.32978723  0.25531915  0.12765957  0.05319149]\n",
      "[ 23.  33.  26.  13.   5.]\n"
     ]
    }
   ],
   "source": [
    "# results = [ 44,31,16,6,2]\n",
    "# 计算人数\n",
    "peopleActually = [results[i]*(i+1) for i in range(len(results))]\n",
    "peopleActually = np.array(peopleActually)\n",
    "sumPeople = peopleActually.sum() # 需要的总人数\n",
    "peoplePercents = peopleActually/sumPeople # 各组按照人数计算，所占的百分比\n",
    "print(peoplePercents)\n",
    "\n",
    "# 实际人数\n",
    "peopleNumber = np.round(totalNumber*peoplePercents) # 计算各组人数\n",
    "print(peopleNumber)\n",
    "# 计算结果表示，groupsize为index的组有value个人"
   ]
  },
  {
   "cell_type": "code",
   "execution_count": 8,
   "metadata": {
    "collapsed": false
   },
   "outputs": [
    {
     "name": "stdout",
     "output_type": "stream",
     "text": [
      "[5, 13, 26, 33, 23]\n",
      "0\n"
     ]
    }
   ],
   "source": [
    "# reassignment fro each group\n",
    "# 如果一个组分不完的话，或者一个组不够分的话，归还到pool中，分配到其他组；\n",
    "pool = totalNumber - int(sum(peopleNumber))\n",
    "peopleNumber = peopleNumber.astype(int).tolist()\n",
    "peopleNumber.reverse()\n",
    "print(peopleNumber)\n",
    "print(pool)"
   ]
  },
  {
   "cell_type": "code",
   "execution_count": 9,
   "metadata": {
    "collapsed": false
   },
   "outputs": [
    {
     "name": "stdout",
     "output_type": "stream",
     "text": [
      "[24, 16, 9, 3, 1]\n",
      "NO. of people each group: \n",
      "[24, 32, 27, 12, 5]\n",
      "100\n"
     ]
    }
   ],
   "source": [
    "result = []\n",
    "\n",
    "for idx,num in enumerate(peopleNumber):\n",
    "    # get from pool\n",
    "    tempNum = peopleNumber[idx] + pool\n",
    "    groupIdx = len(peopleNumber) - idx\n",
    "    result.append(tempNum // groupIdx)\n",
    "    remains = tempNum % groupIdx\n",
    "    # return to pool\n",
    "    pool = remains\n",
    "    \n",
    "result.reverse()\n",
    "print(result)\n",
    "print('NO. of people each group: ')\n",
    "numInEachGroup = [gno*(idx+1) for idx,gno in enumerate(result)]\n",
    "print(numInEachGroup)\n",
    "print(sum(numInEachGroup))\n",
    "\n",
    "# 数据库手动修改一下groupid和groupsize"
   ]
  },
  {
   "cell_type": "code",
   "execution_count": null,
   "metadata": {
    "collapsed": true
   },
   "outputs": [],
   "source": []
  }
 ],
 "metadata": {
  "kernelspec": {
   "display_name": "Python 3",
   "language": "python",
   "name": "python3"
  },
  "language_info": {
   "codemirror_mode": {
    "name": "ipython",
    "version": 3
   },
   "file_extension": ".py",
   "mimetype": "text/x-python",
   "name": "python",
   "nbconvert_exporter": "python",
   "pygments_lexer": "ipython3",
   "version": "3.6.0"
  }
 },
 "nbformat": 4,
 "nbformat_minor": 2
}
