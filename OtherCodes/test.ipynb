{
 "cells": [
  {
   "cell_type": "code",
   "execution_count": 1,
   "metadata": {
    "collapsed": true
   },
   "outputs": [],
   "source": [
    "from datetime import datetime,timedelta"
   ]
  },
  {
   "cell_type": "code",
   "execution_count": 12,
   "metadata": {
    "collapsed": false
   },
   "outputs": [
    {
     "ename": "TypeError",
     "evalue": "unsupported operand type(s) for +: 'datetime.datetime' and 'datetime.datetime'",
     "output_type": "error",
     "traceback": [
      "\u001b[1;31m---------------------------------------------------------------------------\u001b[0m",
      "\u001b[1;31mTypeError\u001b[0m                                 Traceback (most recent call last)",
      "\u001b[1;32m<ipython-input-12-338dddc02da9>\u001b[0m in \u001b[0;36m<module>\u001b[1;34m()\u001b[0m\n\u001b[0;32m      5\u001b[0m \u001b[0mdt2\u001b[0m \u001b[1;33m=\u001b[0m \u001b[0mdta\u001b[0m\u001b[1;33m+\u001b[0m\u001b[0mtd2\u001b[0m\u001b[1;33m\u001b[0m\u001b[0m\n\u001b[0;32m      6\u001b[0m \u001b[0mdt1\u001b[0m \u001b[1;33m<\u001b[0m \u001b[0mdt2\u001b[0m\u001b[1;33m\u001b[0m\u001b[0m\n\u001b[1;32m----> 7\u001b[1;33m \u001b[0mmid_time\u001b[0m \u001b[1;33m=\u001b[0m \u001b[1;33m(\u001b[0m\u001b[0mdt1\u001b[0m\u001b[1;33m+\u001b[0m\u001b[0mdt2\u001b[0m\u001b[1;33m)\u001b[0m\u001b[1;33m/\u001b[0m\u001b[1;36m2\u001b[0m\u001b[1;33m\u001b[0m\u001b[0m\n\u001b[0m",
      "\u001b[1;31mTypeError\u001b[0m: unsupported operand type(s) for +: 'datetime.datetime' and 'datetime.datetime'"
     ]
    }
   ],
   "source": [
    "dta = datetime.strptime('2017-08-26T17:03:52.529','%Y-%m-%dT%H:%M:%S.%f')\n",
    "td = timedelta(milliseconds=300)\n",
    "dt1 = dta+td\n",
    "td2 = timedelta(seconds=2)\n",
    "dt2 = dta+td2\n",
    "dt1 < dt2\n",
    "mid_time = (dt1+dt2)/2"
   ]
  },
  {
   "cell_type": "code",
   "execution_count": 1,
   "metadata": {
    "collapsed": false
   },
   "outputs": [
    {
     "data": {
      "text/plain": [
       "[1, 2, 3, 0, 0]"
      ]
     },
     "execution_count": 1,
     "metadata": {},
     "output_type": "execute_result"
    }
   ],
   "source": [
    "a=[1,2,3]\n",
    "a+=[0]*(5-len(a))\n",
    "a"
   ]
  },
  {
   "cell_type": "code",
   "execution_count": 5,
   "metadata": {
    "collapsed": false
   },
   "outputs": [
    {
     "data": {
      "text/plain": [
       "'1.2343'"
      ]
     },
     "execution_count": 5,
     "metadata": {},
     "output_type": "execute_result"
    }
   ],
   "source": [
    "str.format('{}',1.2343)"
   ]
  },
  {
   "cell_type": "code",
   "execution_count": 1,
   "metadata": {
    "collapsed": true
   },
   "outputs": [],
   "source": [
    "import time\n",
    "import random\n",
    "import numpy as np"
   ]
  },
  {
   "cell_type": "code",
   "execution_count": 2,
   "metadata": {
    "collapsed": false
   },
   "outputs": [
    {
     "data": {
      "text/plain": [
       "array([ 2.54004133,  2.68751395,  2.95399892,  2.783495  ,  3.04793749,\n",
       "        2.82111579,  2.86688901,  2.89431772,  2.56875093,  2.81926797,\n",
       "        2.53154109,  2.97480992,  2.31394548,  2.90644957,  2.588855  ,\n",
       "        2.4890396 ,  2.74898936,  3.00998088,  2.32387425,  2.9355703 ,\n",
       "        2.82498083,  2.49345947,  2.71952392,  2.56642908,  3.11530309,\n",
       "        2.73584605,  2.18565512,  3.12206561,  2.98267575,  2.58970757,\n",
       "        2.4368227 ,  2.7512802 ,  2.95833382,  2.99429742,  2.87243421,\n",
       "        2.98640242,  2.85347286,  2.91012549,  2.17462716,  2.54791999,\n",
       "        3.00705337,  2.3036409 ,  2.46172124,  2.56104441,  2.46000035,\n",
       "        2.45750295,  2.59713506,  2.76659031,  2.87872839,  2.79283603,\n",
       "        3.33946079,  2.0958996 ,  2.90658205,  2.58233075,  2.44116085,\n",
       "        3.03698499,  3.0384878 ,  3.23998264,  3.0274346 ,  2.75805321,\n",
       "        2.84603773,  2.86985895,  2.72646934,  2.89422526,  2.94527179,\n",
       "        2.18935339,  3.3646728 ,  2.93214677,  3.01887431,  2.85474306,\n",
       "        2.93872412,  3.00153807,  2.51793069,  2.780421  ,  2.96785345,\n",
       "        3.04416655,  3.05905878,  2.9571036 ,  2.8053304 ,  2.96713101,\n",
       "        2.61883562,  2.72282021,  3.01132003,  2.63148804,  3.00141136,\n",
       "        2.99634267,  2.82452934,  2.72579522,  2.52785568,  2.63459735,\n",
       "        3.07189725,  2.75589104,  2.61048408,  2.70476246,  2.62510129,\n",
       "        2.84073885,  3.0049646 ,  2.92972766,  2.79674447,  2.5460887 ])"
      ]
     },
     "execution_count": 2,
     "metadata": {},
     "output_type": "execute_result"
    }
   ],
   "source": [
    "mu, sigma = 2.78, 0.28\n",
    "np.random.normal(mu, sigma, 100)"
   ]
  },
  {
   "cell_type": "code",
   "execution_count": null,
   "metadata": {
    "collapsed": true
   },
   "outputs": [],
   "source": []
  }
 ],
 "metadata": {
  "kernelspec": {
   "display_name": "Python 3",
   "language": "python",
   "name": "python3"
  },
  "language_info": {
   "codemirror_mode": {
    "name": "ipython",
    "version": 3
   },
   "file_extension": ".py",
   "mimetype": "text/x-python",
   "name": "python",
   "nbconvert_exporter": "python",
   "pygments_lexer": "ipython3",
   "version": "3.6.0"
  }
 },
 "nbformat": 4,
 "nbformat_minor": 2
}
