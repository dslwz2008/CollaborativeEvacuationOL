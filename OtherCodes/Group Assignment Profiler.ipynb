{
 "cells": [
  {
   "cell_type": "code",
   "execution_count": 7,
   "metadata": {
    "collapsed": true
   },
   "outputs": [],
   "source": [
    "from ztp import ztpoisson\n",
    "import sqlite3\n",
    "import math\n",
    "from collections import Counter\n",
    "import numpy as np"
   ]
  },
  {
   "cell_type": "code",
   "execution_count": 14,
   "metadata": {
    "collapsed": false
   },
   "outputs": [
    {
     "data": {
      "text/plain": [
       "array([52, 31, 16,  1,  0])"
      ]
     },
     "execution_count": 14,
     "metadata": {},
     "output_type": "execute_result"
    }
   ],
   "source": [
    "def assign_group(mu):\n",
    "    # 各种size的群组所占百分比，服从ZTP分布\n",
    "    groupPercents = [ztpoisson.rvs(mu) for _ in range(100)]\n",
    "    # print(groupPercents)\n",
    "    c = Counter(groupPercents)\n",
    "    results = [tup[1] for tup in c.most_common()]\n",
    "    # 大于5截断\n",
    "    if len(results) >= 5:\n",
    "        results = results[:5]\n",
    "    # 小于5补齐\n",
    "    else:\n",
    "        results+=[0]*(5-len(results))\n",
    "#     print(results) # 各种size的群组所占百分比，这里没考虑人数\n",
    "    return np.array(results)\n",
    "\n",
    "assign_group(1.0)"
   ]
  },
  {
   "cell_type": "code",
   "execution_count": 15,
   "metadata": {
    "collapsed": false
   },
   "outputs": [
    {
     "name": "stdout",
     "output_type": "stream",
     "text": [
      "computing 1.0\n"
     ]
    },
    {
     "ename": "ValueError",
     "evalue": "operands could not be broadcast together with shapes (0,) (5,) ",
     "output_type": "error",
     "traceback": [
      "\u001b[0;31m---------------------------------------------------------------------------\u001b[0m",
      "\u001b[0;31mValueError\u001b[0m                                Traceback (most recent call last)",
      "\u001b[0;32m<ipython-input-15-1b787a1a1389>\u001b[0m in \u001b[0;36m<module>\u001b[0;34m()\u001b[0m\n\u001b[1;32m     16\u001b[0m     \u001b[1;31m# compute mean\u001b[0m\u001b[1;33m\u001b[0m\u001b[1;33m\u001b[0m\u001b[0m\n\u001b[1;32m     17\u001b[0m     \u001b[0mmean_val\u001b[0m \u001b[1;33m=\u001b[0m \u001b[0mnp\u001b[0m\u001b[1;33m.\u001b[0m\u001b[0mmean\u001b[0m\u001b[1;33m(\u001b[0m\u001b[0mresults\u001b[0m\u001b[1;33m,\u001b[0m \u001b[0maxis\u001b[0m\u001b[1;33m=\u001b[0m\u001b[1;36m0\u001b[0m\u001b[1;33m)\u001b[0m\u001b[1;33m\u001b[0m\u001b[0m\n\u001b[0;32m---> 18\u001b[0;31m     \u001b[0merror\u001b[0m \u001b[1;33m=\u001b[0m \u001b[0mnp\u001b[0m\u001b[1;33m.\u001b[0m\u001b[0mabs\u001b[0m\u001b[1;33m(\u001b[0m\u001b[0mtarget\u001b[0m\u001b[1;33m-\u001b[0m\u001b[0mmean_val\u001b[0m\u001b[1;33m)\u001b[0m\u001b[1;33m\u001b[0m\u001b[0m\n\u001b[0m\u001b[1;32m     19\u001b[0m     \u001b[1;32mif\u001b[0m \u001b[0merror\u001b[0m \u001b[1;33m<\u001b[0m \u001b[0mmin_error\u001b[0m\u001b[1;33m:\u001b[0m\u001b[1;33m\u001b[0m\u001b[0m\n\u001b[1;32m     20\u001b[0m         \u001b[0mmin_error\u001b[0m \u001b[1;33m=\u001b[0m \u001b[0merror\u001b[0m\u001b[1;33m\u001b[0m\u001b[0m\n",
      "\u001b[0;31mValueError\u001b[0m: operands could not be broadcast together with shapes (0,) (5,) "
     ]
    }
   ],
   "source": [
    "target = np.array([])\n",
    "mu_start = 100\n",
    "mu_end = 200\n",
    "sim_times = 100\n",
    "assignments = []\n",
    "\n",
    "min_error = 1000\n",
    "min_mu = 0\n",
    "min_mean = None\n",
    "for mu in range(mu_start, mu_end, 1):\n",
    "    mu = mu/100\n",
    "    print('computing '+str(mu))\n",
    "    for _ in range(sim_times):\n",
    "        assignments.append(assign_group(mu))\n",
    "    results = np.array(assignments)\n",
    "    # compute mean\n",
    "    mean_val = np.mean(results, axis=0)\n",
    "    error = np.abs(target-mean_val)\n",
    "    if error < min_error:\n",
    "        min_error = error\n",
    "        min_mu = mu\n",
    "        min_mean = mean_val\n",
    "print(min_mu)\n",
    "print(min_mean)\n",
    "print(min_error)"
   ]
  },
  {
   "cell_type": "code",
   "execution_count": null,
   "metadata": {
    "collapsed": true
   },
   "outputs": [],
   "source": []
  }
 ],
 "metadata": {
  "kernelspec": {
   "display_name": "Python 3",
   "language": "python",
   "name": "python3"
  },
  "language_info": {
   "codemirror_mode": {
    "name": "ipython",
    "version": 3
   },
   "file_extension": ".py",
   "mimetype": "text/x-python",
   "name": "python",
   "nbconvert_exporter": "python",
   "pygments_lexer": "ipython3",
   "version": "3.6.0"
  }
 },
 "nbformat": 4,
 "nbformat_minor": 2
}
