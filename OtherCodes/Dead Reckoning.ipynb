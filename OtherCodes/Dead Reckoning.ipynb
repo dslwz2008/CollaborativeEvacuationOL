{
 "cells": [
  {
   "cell_type": "code",
   "execution_count": 8,
   "metadata": {
    "collapsed": true
   },
   "outputs": [],
   "source": [
    "import numpy as np\n",
    "import pandas as pd\n",
    "import matplotlib.pyplot as plt\n",
    "from mpl_toolkits.mplot3d import Axes3D\n",
    "from datetime import time\n",
    "import time"
   ]
  },
  {
   "cell_type": "code",
   "execution_count": 9,
   "metadata": {},
   "outputs": [
    {
     "name": "stderr",
     "output_type": "stream",
     "text": [
      "C:\\Users\\ShenShen\\Anaconda3\\lib\\site-packages\\ipykernel_launcher.py:2: ParserWarning: Falling back to the 'python' engine because the 'c' engine does not support skipfooter; you can avoid this warning by specifying engine='python'.\n",
      "  \n"
     ]
    },
    {
     "data": {
      "text/html": [
       "<div>\n",
       "<style>\n",
       "    .dataframe thead tr:only-child th {\n",
       "        text-align: right;\n",
       "    }\n",
       "\n",
       "    .dataframe thead th {\n",
       "        text-align: left;\n",
       "    }\n",
       "\n",
       "    .dataframe tbody tr th {\n",
       "        vertical-align: top;\n",
       "    }\n",
       "</style>\n",
       "<table border=\"1\" class=\"dataframe\">\n",
       "  <thead>\n",
       "    <tr style=\"text-align: right;\">\n",
       "      <th></th>\n",
       "      <th>abstime</th>\n",
       "      <th>time</th>\n",
       "      <th>posx</th>\n",
       "      <th>posy</th>\n",
       "      <th>posz</th>\n",
       "      <th>roty</th>\n",
       "      <th>rotx</th>\n",
       "    </tr>\n",
       "  </thead>\n",
       "  <tbody>\n",
       "    <tr>\n",
       "      <th>0</th>\n",
       "      <td>2017-09-01T16:19:39.635</td>\n",
       "      <td>88.97661</td>\n",
       "      <td>-6.0</td>\n",
       "      <td>1.05</td>\n",
       "      <td>-2.77</td>\n",
       "      <td>295.8139</td>\n",
       "      <td>4.205431</td>\n",
       "    </tr>\n",
       "    <tr>\n",
       "      <th>1</th>\n",
       "      <td>2017-09-01T16:19:39.931</td>\n",
       "      <td>89.27708</td>\n",
       "      <td>-6.0</td>\n",
       "      <td>1.05</td>\n",
       "      <td>-2.77</td>\n",
       "      <td>301.2080</td>\n",
       "      <td>2.261689</td>\n",
       "    </tr>\n",
       "    <tr>\n",
       "      <th>2</th>\n",
       "      <td>2017-09-01T16:19:40.232</td>\n",
       "      <td>89.57829</td>\n",
       "      <td>-6.0</td>\n",
       "      <td>1.05</td>\n",
       "      <td>-2.77</td>\n",
       "      <td>282.0147</td>\n",
       "      <td>32.789770</td>\n",
       "    </tr>\n",
       "    <tr>\n",
       "      <th>3</th>\n",
       "      <td>2017-09-01T16:19:40.537</td>\n",
       "      <td>89.88255</td>\n",
       "      <td>-6.0</td>\n",
       "      <td>1.05</td>\n",
       "      <td>-2.77</td>\n",
       "      <td>276.1622</td>\n",
       "      <td>27.215370</td>\n",
       "    </tr>\n",
       "    <tr>\n",
       "      <th>4</th>\n",
       "      <td>2017-09-01T16:19:40.838</td>\n",
       "      <td>90.18325</td>\n",
       "      <td>-6.0</td>\n",
       "      <td>1.05</td>\n",
       "      <td>-2.77</td>\n",
       "      <td>284.8096</td>\n",
       "      <td>19.125920</td>\n",
       "    </tr>\n",
       "  </tbody>\n",
       "</table>\n",
       "</div>"
      ],
      "text/plain": [
       "                   abstime      time  posx  posy  posz      roty       rotx\n",
       "0  2017-09-01T16:19:39.635  88.97661  -6.0  1.05 -2.77  295.8139   4.205431\n",
       "1  2017-09-01T16:19:39.931  89.27708  -6.0  1.05 -2.77  301.2080   2.261689\n",
       "2  2017-09-01T16:19:40.232  89.57829  -6.0  1.05 -2.77  282.0147  32.789770\n",
       "3  2017-09-01T16:19:40.537  89.88255  -6.0  1.05 -2.77  276.1622  27.215370\n",
       "4  2017-09-01T16:19:40.838  90.18325  -6.0  1.05 -2.77  284.8096  19.125920"
      ]
     },
     "execution_count": 9,
     "metadata": {},
     "output_type": "execute_result"
    }
   ],
   "source": [
    "csvfilename = 'logs/1_xiaoxiong_Controller_2017-09-01-16-19-38.csv'\n",
    "df = pd.read_csv(csvfilename, header=None, names=['abstime','time','posx','posy','posz','roty','rotx'], skiprows=1, skipfooter=1)\n",
    "df.head()\n"
   ]
  },
  {
   "cell_type": "code",
   "execution_count": 10,
   "metadata": {},
   "outputs": [
    {
     "name": "stdout",
     "output_type": "stream",
     "text": [
      "197\n"
     ]
    }
   ],
   "source": [
    "Tdelta = 0.5\n",
    "Xr=df['posx'].values\n",
    "Yr=df['posy'].values\n",
    "Zr=df['posz'].values\n",
    "m=len(Xr)\n",
    "print(m)"
   ]
  },
  {
   "cell_type": "code",
   "execution_count": 11,
   "metadata": {
    "collapsed": true
   },
   "outputs": [],
   "source": [
    "Qt=[]\n",
    "Tf = 0.0 # since last frame\n",
    "Tt = 0.0 # since last update\n",
    "deltaTime = 0.0"
   ]
  },
  {
   "cell_type": "code",
   "execution_count": 12,
   "metadata": {},
   "outputs": [
    {
     "name": "stdout",
     "output_type": "stream",
     "text": [
      "1504839704.7430093\n",
      "1504839704.74351\n",
      "1504839704.74351\n",
      "1504839705.2439537\n",
      "1504839705.744748\n",
      "1504839706.2449284\n",
      "1504839706.7451315\n",
      "1504839707.245368\n",
      "1504839707.7456298\n",
      "1504839708.2460585\n"
     ]
    }
   ],
   "source": [
    "# update\n",
    "for idx,step in enumerate(range(10)):\n",
    "    frameBegin = time.time()\n",
    "    if idx == 0 or idx == 1:\n",
    "        # rendering\n",
    "        time.sleep(0.05)\n",
    "        P0 = Xr[idx],Yr[idx],Zr[idx]\n",
    "    else:\n",
    "        Tt += deltaTime\n",
    "        Tnorm = Tt / Tdelta\n",
    "        #1.从server收到新位置数据，作为last known，求出新的速度、加速度\n",
    "        P0Prime = Xr[idx],Yr[idx],Zr[idx]\n",
    "        V0 = \n",
    "        #2.velocity blending\n",
    "        #3.从当前位置，根据混合速度和新加速度，计算预测位置Pt\n",
    "        #4.从last known位置，根据新速度和加速度，计算预测位置Pt'\n",
    "        #5.结合两个预测位置，计算目标位置\n",
    "        #6.移动到目标位置\n",
    "        time.sleep(0.05)\n",
    "    frameEnd = time.time()\n",
    "    deltaTime = frameEnd - frameBegin"
   ]
  },
  {
   "cell_type": "code",
   "execution_count": null,
   "metadata": {
    "collapsed": true
   },
   "outputs": [],
   "source": []
  }
 ],
 "metadata": {
  "kernelspec": {
   "display_name": "Python 3",
   "language": "python",
   "name": "python3"
  },
  "language_info": {
   "codemirror_mode": {
    "name": "ipython",
    "version": 3
   },
   "file_extension": ".py",
   "mimetype": "text/x-python",
   "name": "python",
   "nbconvert_exporter": "python",
   "pygments_lexer": "ipython3",
   "version": "3.6.1"
  }
 },
 "nbformat": 4,
 "nbformat_minor": 2
}
