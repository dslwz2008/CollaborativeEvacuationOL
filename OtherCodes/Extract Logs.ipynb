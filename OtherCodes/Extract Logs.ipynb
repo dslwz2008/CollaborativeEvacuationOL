{
 "cells": [
  {
   "cell_type": "code",
   "execution_count": 3,
   "metadata": {
    "collapsed": true
   },
   "outputs": [],
   "source": [
    "import os\n",
    "import os.path\n",
    "import sys\n",
    "import csv\n",
    "from datetime import datetime,timedelta"
   ]
  },
  {
   "cell_type": "code",
   "execution_count": 4,
   "metadata": {
    "collapsed": false
   },
   "outputs": [
    {
     "data": {
      "text/plain": [
       "{'exp1': ['andrew',\n",
       "  'peijiqiu',\n",
       "  'zhangdong',\n",
       "  'qiulijun2006',\n",
       "  'dslwz2008',\n",
       "  'overwatch',\n",
       "  'wudonghaha',\n",
       "  'zangyuan123',\n",
       "  'connie',\n",
       "  'haotian1013',\n",
       "  'weiyi9',\n",
       "  'yaxinxueke'],\n",
       " 'exp2': ['peijiqiu',\n",
       "  'yaxinxueke',\n",
       "  'connie',\n",
       "  'andrew',\n",
       "  'dslwz2008',\n",
       "  'haotian1013',\n",
       "  'qiulijun2006',\n",
       "  'overwatch',\n",
       "  'weiyi9',\n",
       "  'zangyuan123'],\n",
       " 'exp3': ['peijiqiu',\n",
       "  'overwatch',\n",
       "  'qiulijun2006',\n",
       "  'yaxinxueke',\n",
       "  'weiyi9',\n",
       "  'zangyuan123',\n",
       "  'wudonghaha',\n",
       "  'dslwz2008',\n",
       "  'connie',\n",
       "  'andrew',\n",
       "  'haotian1013']}"
      ]
     },
     "execution_count": 4,
     "metadata": {},
     "output_type": "execute_result"
    }
   ],
   "source": [
    "def get_users(filename):\n",
    "    result = {}\n",
    "    with open(filename,'r') as fp:\n",
    "        for idx,line in enumerate(fp.readlines()):\n",
    "            key = 'exp'+str(idx+1)\n",
    "            users = line.strip().split(',')\n",
    "            result[key] = users\n",
    "    return result\n",
    "\n",
    "get_users('data/0826/exp.txt')"
   ]
  },
  {
   "cell_type": "code",
   "execution_count": 35,
   "metadata": {
    "collapsed": false
   },
   "outputs": [
    {
     "name": "stdout",
     "output_type": "stream",
     "text": [
      "start processing data/0826/exp1.txt\n",
      "0\n",
      "10000\n",
      "20000\n",
      "30000\n",
      "40000\n",
      "50000\n",
      "finish!\n",
      "start processing data/0826/exp2.txt\n",
      "10000\n",
      "20000\n",
      "30000\n",
      "finish!\n",
      "start processing data/0826/exp3.txt\n",
      "10000\n",
      "20000\n",
      "30000\n",
      "40000\n",
      "finish!\n"
     ]
    }
   ],
   "source": [
    "data_path = 'data/0826/'\n",
    "exp_file = 'exp.txt'\n",
    "#包含实验数据的文件\n",
    "files = ['exp1','exp2','exp3']\n",
    "file_ext = '.txt'\n",
    "interval = timedelta(milliseconds=300) #ms\n",
    "\n",
    "users_in_exp = get_users(data_path + exp_file)\n",
    "for file in files:\n",
    "    #开始解析文件\n",
    "    filename = data_path + file + file_ext\n",
    "    print('start processing ' + filename)\n",
    "    result = {}\n",
    "    temp_dict = {}\n",
    "    start_time = None\n",
    "    #读文件，提取用户数据\n",
    "    with open(filename, 'r') as fp:\n",
    "        for idx,line in enumerate(fp.readlines()):\n",
    "            items = line.strip().split('|')[-1].strip().split(',')\n",
    "#             print(items)\n",
    "            if 'UserVariablesUpdate' not in items[0]: # 10项一共\n",
    "                continue\n",
    "            # 每个用户在每个间隔内的数据，取最后出现的一个\n",
    "            if start_time is None:\n",
    "                start_time = datetime.strptime(items[1],'%Y-%m-%dT%H:%M:%S.%f')\n",
    "                end_time = start_time + interval\n",
    "                temp_dict = {}\n",
    "            cur_time = datetime.strptime(items[1],'%Y-%m-%dT%H:%M:%S.%f')\n",
    "            if cur_time < end_time:\n",
    "                temp_dict[items[3]] = ','.join([items[1], items[4], items[5],items[6],items[7],items[8],items[9]]) + '\\n'\n",
    "            else: # 清理\n",
    "                for k,v in temp_dict:\n",
    "                    result[k] += temp_dict[k]\n",
    "                temp_dict = {}\n",
    "                start_time = end_time\n",
    "                end_time = start_time + interval\n",
    "            \n",
    "#             if items[3] not in result:\n",
    "#                 result[items[3]]=[]            \n",
    "#             result[items[3]].append(','.join([items[1], items[4], items[5],items[6],items[7],items[8],items[9]]) + '\\n')\n",
    "            if idx % 10000 == 0:\n",
    "                print(idx)\n",
    "    \n",
    "    #写入文件\n",
    "    output_dir = data_path + file\n",
    "    if not os.path.exists(output_dir):\n",
    "        os.mkdir(output_dir)\n",
    "    \n",
    "#     print(result)\n",
    "    for k in result:\n",
    "        filename = '{0}/{1}.csv'.format(output_dir, k)\n",
    "        with open(filename, 'w') as fp:\n",
    "            fp.writelines(result[k])\n",
    "    \n",
    "    print('finish!')"
   ]
  },
  {
   "cell_type": "code",
   "execution_count": null,
   "metadata": {
    "collapsed": true
   },
   "outputs": [],
   "source": []
  }
 ],
 "metadata": {
  "kernelspec": {
   "display_name": "Python 3",
   "language": "python",
   "name": "python3"
  },
  "language_info": {
   "codemirror_mode": {
    "name": "ipython",
    "version": 3
   },
   "file_extension": ".py",
   "mimetype": "text/x-python",
   "name": "python",
   "nbconvert_exporter": "python",
   "pygments_lexer": "ipython3",
   "version": "3.6.0"
  }
 },
 "nbformat": 4,
 "nbformat_minor": 2
}
