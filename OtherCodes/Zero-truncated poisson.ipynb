{
 "cells": [
  {
   "cell_type": "code",
   "execution_count": 1,
   "metadata": {
    "collapsed": true
   },
   "outputs": [],
   "source": [
    "import numpy as np\n",
    "import matplotlib.pyplot as plt"
   ]
  },
  {
   "cell_type": "code",
   "execution_count": 2,
   "metadata": {
    "collapsed": false
   },
   "outputs": [
    {
     "name": "stdout",
     "output_type": "stream",
     "text": [
      "[1 1 0 0 1 0 1 0 1 0 1 1 0 1 1 1 3 0 0 0 1 0 1 0 2 1 1 1 0 1 1 4 1 0 1 0 0\n",
      " 0 4 1 0 0 0 1 1 0 1 0 1 4 3 0 0 1 1 2 1 3 0 1 1 0 1 3 2 0 1 2 1 0 0 1 0 2\n",
      " 0 0 0 0 2 2 0 1 0 1 2 0 1 0 1 1 1 0 0 0 3 2 1 0 1 2]\n"
     ]
    },
    {
     "data": {
      "image/png": "[encoded data removed]",
      "text/plain": [
       "<matplotlib.figure.Figure at 0x26eb75426a0>"
      ]
     },
     "metadata": {},
     "output_type": "display_data"
    }
   ],
   "source": [
    "x=[1,2,3,4,5]\n",
    "y=[44,36,10,6,4]\n",
    "plt.plot(x,y)\n",
    "s=np.random.poisson(lam=1,size=100)\n",
    "print(s)\n",
    "plt.hist(s,10)\n",
    "plt.show()"
   ]
  },
  {
   "cell_type": "code",
   "execution_count": 3,
   "metadata": {
    "collapsed": true
   },
   "outputs": [],
   "source": [
    "from collections import Counter\n",
    "from ztp import ztpoisson"
   ]
  },
  {
   "cell_type": "code",
   "execution_count": 4,
   "metadata": {
    "collapsed": false
   },
   "outputs": [
    {
     "name": "stdout",
     "output_type": "stream",
     "text": [
      "base  0.1\n",
      "[97, 2, 1]\n",
      "base  0.2\n",
      "[92, 8]\n",
      "base  0.30000000000000004\n",
      "[81, 19]\n",
      "base  0.4\n",
      "[86, 14]\n",
      "base  0.5\n",
      "[80, 18, 2]\n",
      "base  0.6\n",
      "[78, 21, 1]\n",
      "base  0.7\n",
      "[66, 25, 8, 1]\n",
      "base  0.7999999999999999\n",
      "[64, 27, 7, 2]\n",
      "base  0.8999999999999999\n",
      "[74, 22, 3, 1]\n",
      "base  0.9999999999999999\n",
      "[60, 27, 9, 4]\n",
      "base  1.0999999999999999\n",
      "[53, 31, 15, 1]\n",
      "base  1.2\n",
      "[53, 29, 15, 3]\n",
      "base  1.3\n",
      "[40, 32, 20, 6, 2]\n",
      "base  1.4000000000000001\n",
      "[47, 32, 16, 3, 2]\n",
      "base  1.5000000000000002\n",
      "[43, 32, 15, 7, 2, 1]\n",
      "base  1.6000000000000003\n",
      "[44, 36, 10, 7, 2, 1]\n",
      "base  1.7000000000000004\n",
      "[39, 36, 14, 7, 4]\n",
      "base  1.8000000000000005\n",
      "[38, 26, 19, 12, 2, 2, 1]\n",
      "base  1.9000000000000006\n",
      "[35, 30, 22, 7, 5, 1]\n",
      "base  2.0000000000000004\n",
      "[39, 32, 18, 7, 3, 1]\n",
      "base  2.1000000000000005\n",
      "[34, 30, 22, 11, 3]\n",
      "base  2.2000000000000006\n",
      "[39, 27, 19, 10, 3, 2]\n",
      "base  2.3000000000000007\n",
      "[28, 22, 21, 20, 7, 2]\n",
      "base  2.400000000000001\n",
      "[27, 26, 26, 12, 6, 3]\n",
      "base  2.500000000000001\n",
      "[31, 23, 21, 17, 3, 3, 1, 1]\n",
      "base  2.600000000000001\n",
      "[29, 25, 20, 14, 7, 4, 1]\n",
      "base  2.700000000000001\n",
      "[27, 26, 23, 18, 4, 2]\n",
      "base  2.800000000000001\n",
      "[31, 25, 15, 11, 8, 4, 4, 1, 1]\n",
      "base  2.9000000000000012\n",
      "[30, 22, 21, 11, 8, 6, 1, 1]\n",
      "base  3.0000000000000013\n",
      "[26, 22, 15, 15, 11, 9, 2]\n",
      "base  3.1000000000000014\n",
      "[24, 21, 20, 19, 12, 3, 1]\n",
      "base  3.2000000000000015\n",
      "[26, 19, 19, 11, 9, 8, 7, 1]\n",
      "base  3.3000000000000016\n",
      "[26, 22, 15, 13, 10, 5, 5, 2, 1, 1]\n",
      "base  3.4000000000000017\n",
      "[27, 20, 15, 14, 13, 8, 2, 1]\n",
      "base  3.5000000000000018\n",
      "[20, 19, 19, 14, 10, 9, 5, 3, 1]\n",
      "base  3.600000000000002\n",
      "[27, 18, 16, 14, 11, 6, 5, 2, 1]\n",
      "base  3.700000000000002\n",
      "[26, 16, 16, 13, 11, 8, 5, 4, 1]\n",
      "base  3.800000000000002\n",
      "[23, 22, 20, 10, 8, 7, 5, 3, 2]\n",
      "base  3.900000000000002\n",
      "[27, 20, 17, 13, 11, 8, 3, 1]\n",
      "base  4.000000000000002\n",
      "[25, 24, 14, 13, 7, 7, 6, 3, 1]\n",
      "base  4.100000000000001\n",
      "[21, 18, 18, 13, 10, 8, 8, 2, 1, 1]\n",
      "base  4.200000000000001\n",
      "[19, 18, 16, 15, 14, 8, 5, 3, 2]\n",
      "base  4.300000000000001\n",
      "[25, 21, 16, 13, 10, 10, 2, 1, 1, 1]\n",
      "base  4.4\n",
      "[18, 15, 14, 13, 12, 9, 7, 6, 2, 2, 1, 1]\n",
      "base  4.5\n",
      "[19, 17, 15, 14, 12, 11, 5, 4, 2, 1]\n",
      "base  4.6\n",
      "[22, 17, 15, 12, 10, 10, 6, 5, 1, 1, 1]\n",
      "base  4.699999999999999\n",
      "[18, 18, 17, 17, 10, 6, 6, 4, 2, 1, 1]\n",
      "base  4.799999999999999\n",
      "[21, 17, 15, 13, 9, 7, 6, 4, 4, 3, 1]\n",
      "base  4.899999999999999\n",
      "[21, 13, 12, 11, 10, 9, 8, 7, 3, 3, 2, 1]\n",
      "base  4.999999999999998\n",
      "[19, 14, 13, 12, 11, 10, 7, 5, 4, 3, 2]\n"
     ]
    }
   ],
   "source": [
    "\n",
    "steps = 30\n",
    "base = 1.0\n",
    "x=[1,2,3,4,5]\n",
    "y=np.array([[44,36,10,6,4]])\n",
    "maxSim = 100\n",
    "maxSimBase = 0\n",
    "\n",
    "for step in range(steps):\n",
    "    numbers = [ztpoisson.rvs(base) for _ in range(100)]\n",
    "    c = Counter(numbers)\n",
    "    results = [tup[1] for tup in c.most_common()]\n",
    "    print('base ',base)\n",
    "    print(results)\n",
    "#     mse = ((y - results) ** 2).mean()\n",
    "#     print(mse)\n",
    "#     if mse < minMSE:\n",
    "#         minMSE = mse\n",
    "#         minMSENums = results\n",
    "    base += 0.01\n",
    "\n",
    "# plt.plot(x,y)\n",
    "# plt.plot(x,minMSENums)\n",
    "# plt.show()"
   ]
  },
  {
   "cell_type": "code",
   "execution_count": 7,
   "metadata": {
    "collapsed": false
   },
   "outputs": [
    {
     "name": "stdout",
     "output_type": "stream",
     "text": [
      "16.0\n",
      "7.5\n"
     ]
    }
   ],
   "source": [
    "def mse(A,B):\n",
    "    return ((A-B)**2).mean()\n",
    "\n",
    "va = np.array([1,2,3,4])\n",
    "vb = np.array([5,6,7,8])\n",
    "print(mse(va,vb))\n",
    "vc = np.array([1,2,3,4])\n",
    "vd = np.array([2,4,6,8])\n",
    "print(mse(vc,vd))"
   ]
  },
  {
   "cell_type": "code",
   "execution_count": 26,
   "metadata": {
    "collapsed": false
   },
   "outputs": [
    {
     "data": {
      "text/plain": [
       "[('1.34', 15),\n",
       " ('1.3', 12),\n",
       " ('1.37', 12),\n",
       " ('1.28', 12),\n",
       " ('1.33', 11),\n",
       " ('1.4', 10),\n",
       " ('1.32', 10),\n",
       " ('1.36', 9),\n",
       " ('1.27', 8),\n",
       " ('1.35', 8),\n",
       " ('1.21', 8),\n",
       " ('1.38', 8),\n",
       " ('1.23', 7),\n",
       " ('1.22', 7),\n",
       " ('1.31', 7),\n",
       " ('1.29', 7),\n",
       " ('1.24', 7),\n",
       " ('1.42', 7),\n",
       " ('1.39', 6),\n",
       " ('1.26', 6),\n",
       " ('1.41', 5),\n",
       " ('1.2', 4),\n",
       " ('1.44', 4),\n",
       " ('1.25', 4),\n",
       " ('1.43', 3),\n",
       " ('1.45', 2),\n",
       " ('1.47', 1)]"
      ]
     },
     "execution_count": 26,
     "metadata": {},
     "output_type": "execute_result"
    }
   ],
   "source": [
    "mins = []\n",
    "for i in range(200):\n",
    "    steps = 30\n",
    "    base = 1.2\n",
    "    x=[1,2,3,4,5]\n",
    "    y=np.array([[44,36,10,6,4]])\n",
    "    minMSE = 100\n",
    "    minBase = 0\n",
    "\n",
    "    for step in range(steps):\n",
    "        numbers = [ztpoisson.rvs(base) for _ in range(100)]\n",
    "        c = Counter(numbers)\n",
    "        results = [tup[1] for tup in c.most_common()]\n",
    "        if len(results) < 5: continue\n",
    "        results = results[:5]\n",
    "#         print('base ',base)\n",
    "#         print(results)\n",
    "        MSE = mse(y , results)\n",
    "#         print(MSE)\n",
    "        if MSE < minMSE:\n",
    "            minMSE = MSE\n",
    "            minBase = base\n",
    "        base += 0.01\n",
    "\n",
    "    mins.append(str.format('{:.3}',minBase))\n",
    "c = Counter(mins)\n",
    "c.most_common()"
   ]
  },
  {
   "cell_type": "code",
   "execution_count": null,
   "metadata": {
    "collapsed": true
   },
   "outputs": [],
   "source": []
  }
 ],
 "metadata": {
  "kernelspec": {
   "display_name": "Python 3",
   "language": "python",
   "name": "python3"
  },
  "language_info": {
   "codemirror_mode": {
    "name": "ipython",
    "version": 3
   },
   "file_extension": ".py",
   "mimetype": "text/x-python",
   "name": "python",
   "nbconvert_exporter": "python",
   "pygments_lexer": "ipython3",
   "version": "3.6.0"
  }
 },
 "nbformat": 4,
 "nbformat_minor": 2
}
