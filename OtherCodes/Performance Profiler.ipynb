{
 "cells": [
  {
   "cell_type": "code",
   "execution_count": 1,
   "metadata": {
    "collapsed": true
   },
   "outputs": [],
   "source": [
    "import psutil"
   ]
  },
  {
   "cell_type": "code",
   "execution_count": 2,
   "metadata": {},
   "outputs": [
    {
     "name": "stdout",
     "output_type": "stream",
     "text": [
      "1505372055.0\n",
      "[suser(name='ShenShen', terminal=None, host='0.0.0.0', started=1507212524.0)]\n"
     ]
    }
   ],
   "source": [
    "print(psutil.boot_time())\n",
    "print(psutil.users())"
   ]
  },
  {
   "cell_type": "code",
   "execution_count": 9,
   "metadata": {},
   "outputs": [
    {
     "name": "stdout",
     "output_type": "stream",
     "text": [
      "snetio(bytes_sent=2786248472, bytes_recv=19177991041, packets_sent=5282351, packets_recv=1393923, errin=0, errout=0, dropin=0, dropout=0)\n",
      "{'name': 'smartgit.exe', 'username': 'DESKTOP-CCKOJVF\\\\ShenShen', 'pid': 2704}\n",
      "0.3\n",
      "pfullmem(rss=126119936, vms=116781056, num_page_faults=100469, peak_wset=132694016, wset=126119936, peak_paged_pool=674184, paged_pool=407320, peak_nonpaged_pool=69488, nonpaged_pool=67648, pagefile=116781056, peak_pagefile=116953088, private=116781056, uss=106860544)\n"
     ]
    }
   ],
   "source": [
    "targets = ['smartgit.exe',]\n",
    "print(psutil.net_io_counters())\n",
    "for proc in psutil.process_iter(): \n",
    "    pinfo = proc.as_dict(attrs=['pid','name','username'])\n",
    "    if pinfo['name'] in targets:\n",
    "        print(pinfo)\n",
    "        print(proc.cpu_percent())\n",
    "        print(proc.memory_full_info())   "
   ]
  },
  {
   "cell_type": "code",
   "execution_count": 10,
   "metadata": {
    "collapsed": true
   },
   "outputs": [],
   "source": [
    "from datetime import datetime"
   ]
  },
  {
   "cell_type": "code",
   "execution_count": 13,
   "metadata": {},
   "outputs": [
    {
     "data": {
      "text/plain": [
       "'2017-10-06T11:17:16.357374'"
      ]
     },
     "execution_count": 13,
     "metadata": {},
     "output_type": "execute_result"
    }
   ],
   "source": [
    "datetime.now().isoformat()"
   ]
  },
  {
   "cell_type": "code",
   "execution_count": null,
   "metadata": {
    "collapsed": true
   },
   "outputs": [],
   "source": []
  }
 ],
 "metadata": {
  "kernelspec": {
   "display_name": "Python 3",
   "language": "python",
   "name": "python3"
  },
  "language_info": {
   "codemirror_mode": {
    "name": "ipython",
    "version": 3
   },
   "file_extension": ".py",
   "mimetype": "text/x-python",
   "name": "python",
   "nbconvert_exporter": "python",
   "pygments_lexer": "ipython3",
   "version": "3.6.1"
  }
 },
 "nbformat": 4,
 "nbformat_minor": 2
}
