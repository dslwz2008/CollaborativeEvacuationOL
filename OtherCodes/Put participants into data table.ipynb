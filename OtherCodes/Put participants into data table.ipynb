{
 "cells": [
  {
   "cell_type": "markdown",
   "metadata": {},
   "source": [
    "**Available Time Statistics**"
   ]
  },
  {
   "cell_type": "code",
   "execution_count": 5,
   "metadata": {
    "collapsed": false
   },
   "outputs": [],
   "source": [
    "import sqlite3\n",
    "from collections import Counter"
   ]
  },
  {
   "cell_type": "code",
   "execution_count": 6,
   "metadata": {
    "collapsed": false
   },
   "outputs": [
    {
     "name": "stdout",
     "output_type": "stream",
     "text": [
      "['17', '17', '20', '16', '14', '15', '16', '16', '16', '17', '16', '16', '10', '11', '15', '16', '17', '16', '17', '16', '16', '16', '16', '16', '16', '17', '16']\n"
     ]
    },
    {
     "data": {
      "text/plain": [
       "[('16', 15), ('17', 6), ('15', 2), ('20', 1), ('14', 1), ('10', 1), ('11', 1)]"
      ]
     },
     "execution_count": 6,
     "metadata": {},
     "output_type": "execute_result"
    }
   ],
   "source": [
    "dbpath = '../WebServer/participants.db'\n",
    "# 获取报名者时间情况\n",
    "sqlGetAvailableTime =  'select AvailableTime from questionaire'\n",
    "con = sqlite3.connect(dbpath)\n",
    "cur = con.cursor()\n",
    "cur.execute(sqlGetAvailableTime)\n",
    "records = cur.fetchall()\n",
    "times = []\n",
    "for r in records:\n",
    "    times += (r[0].split(','))\n",
    "con.close()\n",
    "print(times)\n",
    "counter = Counter(times)\n",
    "counter.most_common(10)"
   ]
  },
  {
   "cell_type": "markdown",
   "metadata": {},
   "source": [
    "**Put participants into data table**"
   ]
  },
  {
   "cell_type": "code",
   "execution_count": 7,
   "metadata": {
    "collapsed": false
   },
   "outputs": [
    {
     "name": "stdout",
     "output_type": "stream",
     "text": [
      "[ 14.52236405  13.44761946  15.14545444  15.61232754  15.40883076\n",
      "  13.88525697  14.212897    16.04715541  15.09163337  14.50091922\n",
      "  13.71019023  15.07529083  14.63903873  14.09098714  14.72672818\n",
      "  14.62088187  14.48782213  13.93761834  13.25916976  15.00980833\n",
      "  13.10954207  13.30556685  15.83799069  15.85096019  14.20753689\n",
      "  15.04745293  14.72893363  14.73277571  16.14729064  13.62069271]\n"
     ]
    }
   ],
   "source": [
    "import numpy as np\n",
    "#下面生成正态分布的初始速度\n",
    "def get_normal_speed(size):\n",
    "    mu, sigma = 4.17, 0.28 # mean and standard deviation\n",
    "    s = np.random.normal(mu, sigma, size)\n",
    "    speed_multiplier = 3.5\n",
    "    return s*speed_multiplier\n",
    "print(get_normal_speed(30))"
   ]
  },
  {
   "cell_type": "code",
   "execution_count": 10,
   "metadata": {
    "collapsed": false
   },
   "outputs": [],
   "source": [
    "dbpath = '../WebServer/participants.db'\n",
    "##### 注意修改这里 ！！！！！！\n",
    "time = '16'\n",
    "\n",
    "# 选取字段\n",
    "sqlGetUserInfo =  'select AvailableTime,Username,Gender,Password from questionaire'\n",
    "# 插入表格\n",
    "sqlInsertRecord = 'insert into participants (Username,Password,Gender,Speed) values (?,?,?,?)'\n",
    "con = sqlite3.connect(dbpath)\n",
    "cur = con.cursor()\n",
    "cur.execute(sqlGetUserInfo)\n",
    "records = cur.fetchall()\n",
    "speeds = get_normal_speed(len(records))\n",
    "\n",
    "for idx,rec in enumerate(records):\n",
    "    if time in rec[0].split(','):\n",
    "        username = rec[1]\n",
    "        gender = 0 if rec[2] == 2 else rec[2]\n",
    "        password = rec[3]\n",
    "        cur.execute(sqlInsertRecord,(username,password,gender,speeds[idx]))\n",
    "con.commit()\n",
    "con.close()"
   ]
  },
  {
   "cell_type": "code",
   "execution_count": null,
   "metadata": {
    "collapsed": true
   },
   "outputs": [],
   "source": []
  }
 ],
 "metadata": {
  "kernelspec": {
   "display_name": "Python 3",
   "language": "python",
   "name": "python3"
  },
  "language_info": {
   "codemirror_mode": {
    "name": "ipython",
    "version": 3
   },
   "file_extension": ".py",
   "mimetype": "text/x-python",
   "name": "python",
   "nbconvert_exporter": "python",
   "pygments_lexer": "ipython3",
   "version": "3.6.0"
  }
 },
 "nbformat": 4,
 "nbformat_minor": 2
}
